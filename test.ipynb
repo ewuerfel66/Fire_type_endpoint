{
 "cells": [
  {
   "cell_type": "code",
   "execution_count": 1,
   "metadata": {},
   "outputs": [],
   "source": [
    "import feedparser"
   ]
  },
  {
   "cell_type": "code",
   "execution_count": 2,
   "metadata": {},
   "outputs": [],
   "source": [
    "url = 'https://inciweb.nwcg.gov/feeds/rss/incidents/'\n",
    "fires = feedparser.parse(url)\n",
    "rss_fires = []"
   ]
  },
  {
   "cell_type": "code",
   "execution_count": 35,
   "metadata": {},
   "outputs": [],
   "source": [
    "dirty_fire_names = [entry.title for entry in fires.entries]\n",
    "fire_names = []\n",
    "fire_types = []"
   ]
  },
  {
   "cell_type": "code",
   "execution_count": 36,
   "metadata": {},
   "outputs": [
    {
     "name": "stdout",
     "output_type": "stream",
     "text": [
      "Martinez 3 Fire (Wildfire)\n",
      "yeah\n",
      "Caples Fire (Wildfire)\n",
      "yeah\n",
      "Decker Fire (Wildfire)\n",
      "yeah\n",
      "Molino Fire (Wildfire)\n",
      "yeah\n",
      "Old Water Fire (Wildfire)\n",
      "yeah\n",
      "Cow Creek Fire (Wildfire)\n",
      "yeah\n",
      "2019 Malheur Nf Prescribed Fire (Prescribed Fire)\n",
      "yupp\n",
      "Slash Pile Burning 2019 (Prescribed Fire)\n",
      "yupp\n",
      "2019 Fall Rx Burns For Flagstaff Dist. (Prescribed Fire)\n",
      "yupp\n",
      "Middle Mamm Fire (Wildfire)\n",
      "yeah\n",
      "Kaibab Nf South Zone Rx Fire (Prescribed Fire)\n",
      "yupp\n",
      "Kincade Fire (Wildfire)\n",
      "yeah\n",
      "Hunter Fire (Wildfire)\n",
      "yeah\n",
      "Taboose Fire (Wildfire)\n",
      "yeah\n",
      "Fishhawk Fire (Wildfire)\n",
      "yeah\n",
      "Ikes Fire (Wildfire)\n",
      "yeah\n",
      "Saddleridge Fire (Wildfire)\n",
      "yeah\n",
      "Klamath Nf Fall Rx Burning (Prescribed Fire)\n",
      "yupp\n",
      "Red Feather Prescribed Burn (Prescribed Fire)\n",
      "yupp\n",
      "Middle Fire (Wildfire)\n",
      "yeah\n",
      "South Fire (Wildfire)\n",
      "yeah\n",
      "Shasta-Trinity Prescribed Fires 2019-20 (Prescribed Fire)\n",
      "yupp\n",
      "Valles Caldera Fall Rx (Prescribed Fire)\n",
      "yupp\n",
      "Kanab Creek Rx (Prescribed Fire)\n",
      "yupp\n",
      "Ramshorn/Shf Lightning Fires 2019 (Wildfire)\n",
      "yeah\n",
      "San Juan Nf Prescribed Fire Program (Prescribed Fire)\n",
      "yupp\n",
      "2019 Umatilla Nf Prescribed Fire (Prescribed Fire)\n",
      "yupp\n",
      "Blue Creek Prescribed Burn (Prescribed Fire)\n",
      "yupp\n",
      "Blue Ridge Prescribed Burn (Prescribed Fire)\n",
      "yupp\n",
      "Sherman Prescribed Burn (Prescribed Fire)\n",
      "yupp\n",
      "Pine Creek Rx Units F And G (Prescribed Fire)\n",
      "yupp\n",
      "Long Ridge Se Units 1-10 (Prescribed Fire)\n",
      "yupp\n",
      "Museum Fire Baer (Burned Area Emergency Response)\n",
      "yee\n",
      "Payette Fall Prescribed Fire 2019 (Prescribed Fire)\n",
      "yupp\n",
      "Liberty Rx (Prescribed Fire)\n",
      "yupp\n",
      "Wallowa-Whitman 2019 Prescribed Fire (Prescribed Fire)\n",
      "yupp\n",
      "Left Hand Fire - Baer (Burned Area Emergency Response)\n",
      "yee\n",
      "Ipnf Prescribed Fire 2019 (Prescribed Fire)\n",
      "yupp\n",
      "Newman Fire Baer Info (Burned Area Emergency Response)\n",
      "yee\n",
      "Trout Creek Prescribed Fire 2019 (Prescribed Fire)\n",
      "yupp\n",
      "Woodbury Fire - Baer (Burned Area Emergency Response)\n",
      "yee\n"
     ]
    }
   ],
   "source": [
    "import re\n",
    "\n",
    "for entry in dirty_fire_names:\n",
    "    title = entry.title()\n",
    "    print(title)\n",
    "    if re.search(\"(Wildfire)\", title):\n",
    "        name = entry.replace(\" (Wildfire)\", \"\")\n",
    "        fire_names.append(name)\n",
    "        fire_types.append(\"Wildfire\")\n",
    "        print('yeah')\n",
    "    elif re.search(\"(Prescribed Fire)\", title):\n",
    "        name = entry.replace(\" (Prescribed Fire)\", \"\")\n",
    "        fire_names.append(name)\n",
    "        fire_types.append(\"Prescribed Fire\")\n",
    "        print('yupp')\n",
    "    elif re.search(\"Burned Area Emergency Response\", title):\n",
    "        name = entry.replace(\"(Burned Area Emergency Response)\", \"\")\n",
    "        fire_names.append(name)\n",
    "        fire_types.append(\"Burned Area Emergency Response (BAER)\")\n",
    "        print('yee')"
   ]
  },
  {
   "cell_type": "code",
   "execution_count": 37,
   "metadata": {},
   "outputs": [
    {
     "name": "stdout",
     "output_type": "stream",
     "text": [
      "Martinez 3 Fire - Wildfire\n",
      "Caples Fire - Wildfire\n",
      "Decker Fire - Wildfire\n",
      "Molino Fire - Wildfire\n",
      "Old Water Fire - Wildfire\n",
      "Cow Creek Fire - Wildfire\n",
      "2019 Malheur NF Prescribed Fire - Prescribed Fire\n",
      "Slash Pile Burning 2019 - Prescribed Fire\n",
      "2019 Fall Rx Burns for Flagstaff Dist. - Prescribed Fire\n",
      "Middle Mamm Fire - Wildfire\n",
      "Kaibab NF South Zone Rx Fire - Prescribed Fire\n",
      "Kincade Fire - Wildfire\n",
      "Hunter Fire - Wildfire\n",
      "Taboose Fire - Wildfire\n",
      "Fishhawk Fire - Wildfire\n",
      "Ikes Fire - Wildfire\n",
      "Saddleridge Fire - Wildfire\n",
      "Klamath NF Fall RX Burning - Prescribed Fire\n",
      "Red Feather Prescribed Burn - Prescribed Fire\n",
      "Middle Fire - Wildfire\n",
      "South Fire - Wildfire\n",
      "Shasta-Trinity Prescribed Fires 2019-20 - Prescribed Fire\n",
      "Valles Caldera Fall Rx - Prescribed Fire\n",
      "Kanab Creek Rx - Prescribed Fire\n",
      "Ramshorn/SHF Lightning Fires 2019 - Wildfire\n",
      "San Juan NF Prescribed Fire Program - Prescribed Fire\n",
      "2019 Umatilla NF Prescribed Fire - Prescribed Fire\n",
      "Blue Creek Prescribed Burn - Prescribed Fire\n",
      "Blue Ridge Prescribed Burn - Prescribed Fire\n",
      "Sherman Prescribed Burn - Prescribed Fire\n",
      "Pine Creek Rx units F and G - Prescribed Fire\n",
      "Long Ridge SE units 1-10 - Prescribed Fire\n",
      "Museum Fire BAER  - Burned Area Emergency Response (BAER)\n",
      "Payette Fall Prescribed Fire 2019 - Prescribed Fire\n",
      "Liberty Rx - Prescribed Fire\n",
      "Wallowa-Whitman 2019 Prescribed Fire - Prescribed Fire\n",
      "Left Hand Fire - BAER  - Burned Area Emergency Response (BAER)\n",
      "IPNF Prescribed Fire 2019 - Prescribed Fire\n",
      "Newman Fire BAER Info  - Burned Area Emergency Response (BAER)\n",
      "Trout Creek Prescribed Fire 2019 - Prescribed Fire\n",
      "Woodbury Fire - BAER  - Burned Area Emergency Response (BAER)\n"
     ]
    }
   ],
   "source": [
    "for i in range(len(fire_names)):\n",
    "    print(fire_names[i], \"-\", fire_types[i])"
   ]
  },
  {
   "cell_type": "code",
   "execution_count": null,
   "metadata": {},
   "outputs": [],
   "source": []
  }
 ],
 "metadata": {
  "kernelspec": {
   "display_name": "Python 3",
   "language": "python",
   "name": "python3"
  },
  "language_info": {
   "codemirror_mode": {
    "name": "ipython",
    "version": 3
   },
   "file_extension": ".py",
   "mimetype": "text/x-python",
   "name": "python",
   "nbconvert_exporter": "python",
   "pygments_lexer": "ipython3",
   "version": "3.7.3"
  }
 },
 "nbformat": 4,
 "nbformat_minor": 2
}
